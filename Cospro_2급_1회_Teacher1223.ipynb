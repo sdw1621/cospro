{
  "nbformat": 4,
  "nbformat_minor": 0,
  "metadata": {
    "colab": {
      "name": "Cospro_2급_1회_Teacher1223.ipynb",
      "provenance": [],
      "collapsed_sections": [],
      "include_colab_link": true
    },
    "kernelspec": {
      "name": "python3",
      "display_name": "Python 3"
    },
    "language_info": {
      "name": "python"
    }
  },
  "cells": [
    {
      "cell_type": "markdown",
      "metadata": {
        "id": "view-in-github",
        "colab_type": "text"
      },
      "source": [
        "<a href=\"https://colab.research.google.com/github/sdw1621/cospro/blob/main/Cospro_2%EA%B8%89_1%ED%9A%8C_Teacher1223.ipynb\" target=\"_parent\"><img src=\"https://colab.research.google.com/assets/colab-badge.svg\" alt=\"Open In Colab\"/></a>"
      ]
    },
    {
      "cell_type": "markdown",
      "metadata": {
        "id": "nSUoW9ppt8WF"
      },
      "source": [
        "### 문제 1. 티셔츠 주문\n",
        "A 학교에서는 단체 티셔츠를 주문하기 위해 학생별로 원하는 티셔츠 사이즈를 조사했습니다. 선택할 수 있는 티셔츠 사이즈는 작은 순서대로 \"XS\", \"S\", \"M\", \"L\", \"XL\", \"XXL\" 총 6종류가 있습니다.\n",
        "\n",
        "학생별로 원하는 티셔츠 사이즈를 조사한 결과가 들어있는 배열 shirt_size가 매개변수로 주어질 때, 사이즈별로 티셔츠가 몇 벌씩 필요한지 가장 작은 사이즈부터 순서대로 배열에 담아 return 하도록 solution 함수를 완성해주세요.\n",
        "\n",
        "\n",
        "▣ 매개변수 설명\n",
        "\n",
        "학생별로 원하는 사이즈를 조사한 결과가 들어있는 배열 shirt_size가 solution 함수의 매개변수로 주어집니다.\n",
        "* shirt_size 의 길이는 1 이상 100 이하입니다.\n",
        "* shirt_size 에는 치수를 나타내는 문자열 \"XS\", \"S\", \"M\", \"L\", \"XL\", \"XXL\" 이 들어있습니다.\n",
        "\n",
        "▣ return 값 설명\n",
        "\n",
        "티셔츠가 사이즈별로 몇 벌씩 필요한지 가장 작은 사이즈부터 순서대로 배열에 담아 return 해주세요.\n",
        "* return 하는 배열에는 [ \"XS\" 개수, \"S\" 개수, \"M\" 개수, \"L\" 개수, \"XL\" 개수, \"XXL\" 개수] 순서로 들어있어야 합니다.\n",
        "\n",
        "▣ 예시\n",
        "\n",
        "        | shirt_size                       | return             |\n",
        "        |----------------------------------|--------------------|\n",
        "        | [\"XS\", \"S\", \"L\", \"L\", \"XL\", \"S\"] | [1, 2, 0, 2, 1, 0] |\n",
        "\n",
        "▣ 예시 설명\n",
        "\n",
        "* \"XS\"와 \"XL\"은 각각 한 명씩 신청했습니다.\n",
        "* \"S\"와 \"L\"은 각각 두 명씩 신청했습니다.\n",
        "* \"M\"과 \"XXL\"을 신청한 학생은 없습니다.\n",
        "\n",
        "따라서 순서대로 [1, 2, 0, 2, 1, 0]을 배열에 담아 return 하면 됩니다.\n"
      ]
    },
    {
      "cell_type": "code",
      "source": [
        "list -> 순서가 있음, index 를 이용해 item에 접근"
      ],
      "metadata": {
        "id": "ZH7XedIsyI6V"
      },
      "execution_count": null,
      "outputs": []
    },
    {
      "cell_type": "code",
      "source": [
        "[0, 0, 0, 0, 0, 0] => [0] * 6\n",
        "'XS' -> answer[0] += 1 # answer[0] = answer[0] + 1   [1, 0, 0, 0, 0, 0]\n",
        "'S'  -> answer[1] += 1 # [1, 1, 0, 0, 0, 0]\n",
        "'L'  -> answer[3] += 1 # [1, 1, 0, 1, 0, 0]\n",
        "'L'  -> answer[3] += 1 # [1, 1, 0, 2, 0, 0]\n",
        "'XL' -> answer[3] += 1 # [1, 1, 0, 2, 1, 0]\n",
        "'S'  -> answer[3] += 1 # [1, 2, 0, 2, 1, 0]"
      ],
      "metadata": {
        "id": "2uPPWD1xyZdc"
      },
      "execution_count": null,
      "outputs": []
    },
    {
      "cell_type": "code",
      "source": [
        "def solution(shirt_size):\n",
        "    answer = [0] * 6\n",
        "    for item in shirt_size:\n",
        "        if item == 'XS': p = 0\n",
        "        elif item == 'S' : p = 1\n",
        "        elif item == 'M' : p = 2\n",
        "        elif item == 'L' : p = 3\n",
        "        elif item == 'XL' : p = 4\n",
        "        else: p = 5\n",
        "        answer[p] += 1\n",
        "    return answer"
      ],
      "metadata": {
        "id": "piSByeJczMGs"
      },
      "execution_count": null,
      "outputs": []
    },
    {
      "cell_type": "code",
      "source": [
        "dict : A = {key:value, key:value, ..}\n",
        "A[key] ->  value"
      ],
      "metadata": {
        "id": "jiaBbrGyz7B-"
      },
      "execution_count": null,
      "outputs": []
    },
    {
      "cell_type": "code",
      "source": [
        "A = {'XS':0, 'S':1, 'M':2, 'L':3, 'XL':4, 'XXL': 5}\n",
        "A['XL']"
      ],
      "metadata": {
        "colab": {
          "base_uri": "https://localhost:8080/"
        },
        "id": "fBa_PGy60Izt",
        "outputId": "83fb812d-1e83-472e-df44-acc88b2e19a2"
      },
      "execution_count": null,
      "outputs": [
        {
          "output_type": "execute_result",
          "data": {
            "text/plain": [
              "4"
            ]
          },
          "metadata": {},
          "execution_count": 3
        }
      ]
    },
    {
      "cell_type": "code",
      "source": [
        "dict(zip('XS S M L XL XXL'.split(), range(6)))"
      ],
      "metadata": {
        "colab": {
          "base_uri": "https://localhost:8080/"
        },
        "id": "6T5UmFpA0vrL",
        "outputId": "a213497e-335d-45a1-e7d7-111f4993f813"
      },
      "execution_count": null,
      "outputs": [
        {
          "output_type": "execute_result",
          "data": {
            "text/plain": [
              "{'L': 3, 'M': 2, 'S': 1, 'XL': 4, 'XS': 0, 'XXL': 5}"
            ]
          },
          "metadata": {},
          "execution_count": 8
        }
      ]
    },
    {
      "cell_type": "code",
      "source": [
        "dict(XS=0, S=1, M=2, L=3, XL=4, XXL=5)"
      ],
      "metadata": {
        "colab": {
          "base_uri": "https://localhost:8080/"
        },
        "id": "N0y8fDsA1N_W",
        "outputId": "2e94562e-0c6f-4767-852f-9881ae25ba47"
      },
      "execution_count": null,
      "outputs": [
        {
          "output_type": "execute_result",
          "data": {
            "text/plain": [
              "{'L': 3, 'M': 2, 'S': 1, 'XL': 4, 'XS': 0, 'XXL': 5}"
            ]
          },
          "metadata": {},
          "execution_count": 9
        }
      ]
    },
    {
      "cell_type": "code",
      "metadata": {
        "id": "u7D_-jOQt11h",
        "colab": {
          "base_uri": "https://localhost:8080/"
        },
        "outputId": "20d8345a-150f-4e94-ce42-363bd782e203"
      },
      "source": [
        "#You may use import as below.\n",
        "#import math\n",
        "\n",
        "def solution(shirt_size):\n",
        "    #Write code here.\n",
        "    A = {'XS':0, 'S':1, 'M':2, 'L':3, 'XL':4, 'XXL': 5}\n",
        "    answer = [0] * 6\n",
        "    for item in shirt_size:\n",
        "        p = A[item]\n",
        "        answer[p] += 1\n",
        "    return answer\n",
        "\n",
        "#The following is code to output testcase.\n",
        "shirt_size = [\"XS\", \"S\", \"L\", \"L\", \"XL\", \"S\"]\n",
        "ret = solution(shirt_size)\n",
        "\n",
        "#Press Run button to receive output.\n",
        "print(\"Solution: return value of the function is \", ret, \" .\")"
      ],
      "execution_count": null,
      "outputs": [
        {
          "output_type": "stream",
          "name": "stdout",
          "text": [
            "Solution: return value of the function is  [1, 2, 0, 2, 1, 0]  .\n"
          ]
        }
      ]
    },
    {
      "cell_type": "markdown",
      "metadata": {
        "id": "Fwdenj4BuhIA"
      },
      "source": [
        "### 문제 2. 회원 등급\n",
        "\n",
        "A 쇼핑몰에서는 회원 등급에 따라 할인 서비스를 제공합니다.\n",
        "회원 등급에 따른 할인율은 다음과 같습니다.\n",
        "(S = 실버, G = 골드, V = VIP)\n",
        "\n",
        "        | 등급  | 할인율 |\n",
        "        |-------|--------|\n",
        "        | \"S\"   | 5%     |\n",
        "        | \"G\"   | 10%    |\n",
        "        | \"V\"   | 15%    |\n",
        "\n",
        "상품의 가격 price와 구매자의 회원 등급을 나타내는 문자열 grade가 매개변수로 주어질 때, 할인 서비스를 적용한 가격을 return 하도록 solution 함수를 완성해주세요.\n",
        "\n",
        "\n",
        "▣매개변수 설명\n",
        "\n",
        "상품의 가격 price와 회원 등급 grade가 매개변수로 주어집니다.\n",
        "* price는 100 이상 100,000 이하의 100단위 자연수입니다.\n",
        "* grade는 \"S\", \"G\", \"V\" 세 가지 중 하나입니다.\n",
        "\n",
        "▣return 값 설명\n",
        "\n",
        "할인한 가격을 return 하도록 solution 함수를 작성해주세요.\n",
        "\n",
        "▣예시\n",
        "\n",
        "        | price | grade    | return |\n",
        "        |-------|----------|--------|\n",
        "        | 2500  | \"V\"      | 2125   |\n",
        "        | 96900 | \"S\"      | 92055  |\n",
        "\n",
        "▣ 예시 설명\n",
        "\n",
        "예시 #1\n",
        "2500원의 15%는 375원 입니다. 2500 - 375 = 2125 입니다.\n",
        "\n",
        "예시 #2\n",
        "96900원의 5%는 4845원 입니다. 96900 - 4845 = 92055 입니다.\n",
        " \n"
      ]
    },
    {
      "cell_type": "code",
      "source": [
        "100 * 0.05  # 100단위이기 때문에 소수점 아래를 없애고 정수화 해도 됨!"
      ],
      "metadata": {
        "colab": {
          "base_uri": "https://localhost:8080/"
        },
        "id": "uwKItEQb4rnb",
        "outputId": "3af77691-86b1-4b1d-95d4-2e8bac0d7663"
      },
      "execution_count": null,
      "outputs": [
        {
          "output_type": "execute_result",
          "data": {
            "text/plain": [
              "5.0"
            ]
          },
          "metadata": {},
          "execution_count": 12
        }
      ]
    },
    {
      "cell_type": "code",
      "source": [
        "# price, grade\n",
        "# if ~ else statement\n",
        "price, grade = 96900, 'S'\n",
        "if grade == 'S':\n",
        "    d = 0.05\n",
        "elif grade == 'G':\n",
        "    d = 0.1\n",
        "else:\n",
        "    d = 0.15\n",
        "answer = int(price * (1-d))\n",
        "print(answer)    "
      ],
      "metadata": {
        "colab": {
          "base_uri": "https://localhost:8080/"
        },
        "id": "nZpr4qCB2-74",
        "outputId": "e6b48802-5507-439b-d035-499d8ca6d939"
      },
      "execution_count": null,
      "outputs": [
        {
          "output_type": "stream",
          "name": "stdout",
          "text": [
            "92055\n"
          ]
        }
      ]
    },
    {
      "cell_type": "code",
      "source": [
        "# conditional expression\n",
        "d = 0.05 if grade == 'S' else 0.1 if grade == 'G' else 0.15"
      ],
      "metadata": {
        "id": "tUm7spPy5tFy"
      },
      "execution_count": null,
      "outputs": []
    },
    {
      "cell_type": "code",
      "source": [
        "# dict container\n",
        "price, grade = 96900, 'S'\n",
        "A = {'S':0.05, 'G':0.1, 'V':0.15}\n",
        "d = A[grade]\n",
        "answer = int(price * (1-d))\n",
        "print(answer)   "
      ],
      "metadata": {
        "colab": {
          "base_uri": "https://localhost:8080/"
        },
        "id": "ZZDxLxOJ5DW2",
        "outputId": "c6d5a0a2-44ab-4238-911d-48d36deeacfb"
      },
      "execution_count": null,
      "outputs": [
        {
          "output_type": "stream",
          "name": "stdout",
          "text": [
            "92055\n"
          ]
        }
      ]
    },
    {
      "cell_type": "code",
      "source": [
        "def solution(price, grade):\n",
        "    #Write code here.\n",
        "    A = {'S':0.05, 'G':0.1, 'V':0.15}\n",
        "    return int(price * (1-A[grade]))"
      ],
      "metadata": {
        "id": "Hhhb0zLH6LZ_"
      },
      "execution_count": null,
      "outputs": []
    },
    {
      "cell_type": "code",
      "metadata": {
        "id": "AicSrnPRvZSC",
        "colab": {
          "base_uri": "https://localhost:8080/"
        },
        "outputId": "36155ac4-45b1-4a98-9595-f5918e7212d7"
      },
      "source": [
        "#You may use import as below.\n",
        "#import math\n",
        "\n",
        "def solution(price, grade):\n",
        "    #Write code here.\n",
        "    d = 0.05 if grade == 'S' else 0.1 if grade == 'G' else 0.15\n",
        "    return int(price * (1-d))\n",
        "\n",
        "#The following is code to output testcase.\n",
        "price1 = 2500\n",
        "grade1 = \"V\"\n",
        "ret1 = solution(price1, grade1)\n",
        "\n",
        "#Press Run button to receive output.\n",
        "print(\"Solution: return value of the function is\", ret1, \".\")\n",
        "    \n",
        "price2 = 96900\n",
        "grade2 = \"S\"\n",
        "ret2 = solution(price2, grade2)\n",
        "\n",
        "#Press Run button to receive output.\n",
        "print(\"Solution: return value of the function is\", ret2, \".\")"
      ],
      "execution_count": null,
      "outputs": [
        {
          "output_type": "stream",
          "name": "stdout",
          "text": [
            "Solution: return value of the function is 2125 .\n",
            "Solution: return value of the function is 92055 .\n"
          ]
        }
      ]
    },
    {
      "cell_type": "markdown",
      "metadata": {
        "id": "fDyQrol-vgrR"
      },
      "source": [
        "### 문제 3. 날짜세기\n",
        "\n",
        "시작 날짜와 끝 날짜가 주어질 때, 두 날짜가 며칠만큼 떨어져 있는지(D-day)를 구하려 합니다. 이를 위해 다음과 같이 3단계로 간단히 프로그램 구조를 작성했습니다. (단, 윤년은 고려하지 않습니다.)\n",
        "\n",
        "- 1단계. 시작 날짜가 1월 1일로부터 며칠만큼 떨어져 있는지 구합니다.\n",
        "- 2단계. 끝 날짜가 1월 1일로부터 며칠만큼 떨어져 있는지 구합니다.\n",
        "- 3단계. (2단계에서 구한 날짜) - (1단계에서 구한 날짜)를 구합니다.\n",
        "\n",
        "시작 날짜의 월, 일을 나타내는 start_month, start_day, 끝 날짜의 월, 일을 나타내는 end_month, end_day가 매개변수로 주어질 때, 시작 날짜와 끝 날짜가 며칠만큼 떨어져 있는지 return 하도록 solution 함수를 작성했습니다. 이때, 위 구조를 참고하여 중복되는 부분은 func_a라는 함수로 작성했습니다. 코드가 올바르게 동작할 수 있도록 빈칸을 알맞게 채워주세요.\n",
        "\n",
        "\n",
        "▣ 매개변수 설명\n",
        "\n",
        "시작 날짜의 월, 일을 나타내는 start_month, start_day, 끝 날짜의 월, 일을 나타내는 end_month, end_day가 solution 함수의 매개변수로 주어집니다.\n",
        "\n",
        "* 잘못된 날짜가 주어지는 경우는 없습니다.\n",
        "* 끝 날짜는 항상 시작 날짜보다 뒤에 있는 날이 주어집니다.\n",
        "* 끝 날짜가 다음 해로 넘어가는 경우는 주어지지 않습니다.\n",
        "  * 즉, start_month <= end_month를 항상 만족합니다.\n",
        "  * start_month = end_month라면 start_day <= end_day를 항상 만족합니다.\n",
        "* 각 달의 날짜 수는 1월부터 순서대로 [31, 28, 31, 30, 31, 30, 31, 31, 30, 31, 30, 31] 이며, 윤년은 고려하지 않습니다.\n",
        "\n",
        "▣ return 값 설명\n",
        "\n",
        "시작 날짜와 끝 날짜가 며칠만큼 떨어져 있는지 return 해주세요.\n",
        "\n",
        "▣ 예시\n",
        "\n",
        "        | start_month | start_day | end_month | end_day | return |\n",
        "        |-------------|-----------|-----------|---------|--------|\n",
        "        | 1           | 2         | 2         | 2       | 31     |\n",
        "\n",
        "▣ 예시 설명\n",
        "\n",
        "시작 날짜는 1월 2일이고, 끝 날짜는 2월 2일입니다.\n",
        "* 1월 2일은 1월 1일로부터 1일만큼 지난 날입니다.\n",
        "* 2월 2일은 1월 1일로부터 32일만큼 지난 날입니다.\n",
        "* 32 - 1 = 31입니다.\n",
        "* 따라서 1월 2일과 2월 2일은 31일만큼 떨어져 있습니다.\n"
      ]
    },
    {
      "cell_type": "code",
      "source": [
        "#6월 4일\n",
        "#1, 2, 3, 4, 5 => 31 + 28 + 31 + 30 + 31\n",
        "month, day = 6, 4\n",
        "list(range(month-1))"
      ],
      "metadata": {
        "colab": {
          "base_uri": "https://localhost:8080/"
        },
        "id": "v62kibl0CrxN",
        "outputId": "bce94465-8539-4be4-ab66-805acdd149c3"
      },
      "execution_count": null,
      "outputs": [
        {
          "output_type": "execute_result",
          "data": {
            "text/plain": [
              "[0, 1, 2, 3, 4]"
            ]
          },
          "metadata": {},
          "execution_count": 23
        }
      ]
    },
    {
      "cell_type": "code",
      "source": [
        "month_list = [31, 28, 31, 30, 31, 30, 31, 31, 30, 31, 30, 31]\n",
        "month = 4\n",
        "month_list[:month-1]"
      ],
      "metadata": {
        "colab": {
          "base_uri": "https://localhost:8080/"
        },
        "id": "5lLLBdiZDyOO",
        "outputId": "bddce44e-4642-455a-d151-30e2ae82466f"
      },
      "execution_count": null,
      "outputs": [
        {
          "output_type": "execute_result",
          "data": {
            "text/plain": [
              "[31, 28, 31]"
            ]
          },
          "metadata": {},
          "execution_count": 28
        }
      ]
    },
    {
      "cell_type": "code",
      "source": [
        "# 동일한 결과, 다른 풀이법\n",
        "def func_a(month, day):\n",
        "    month_list = [31, 28, 31, 30, 31, 30, 31, 31, 30, 31, 30, 31]\n",
        "    return sum(month_list[:month-1]) + day - 1"
      ],
      "metadata": {
        "id": "_bZOruXxELwR"
      },
      "execution_count": null,
      "outputs": []
    },
    {
      "cell_type": "code",
      "metadata": {
        "id": "7JRQxO-evgSR",
        "colab": {
          "base_uri": "https://localhost:8080/"
        },
        "outputId": "8b4b43b5-8ef6-4b42-86b7-ab21fc4a4ad2"
      },
      "source": [
        "def func_a(month, day):\n",
        "    month_list = [31, 28, 31, 30, 31, 30, 31, 31, 30, 31, 30, 31]\n",
        "    total = 0\n",
        "    for i in range(month-1):\n",
        "        total += month_list[i]\n",
        "    total += day\n",
        "    return total - 1\n",
        "        \n",
        "def solution(start_month, start_day, end_month, end_day):\n",
        "    start_total = func_a(start_month, start_day)\n",
        "    end_total = func_a(end_month, end_day)\n",
        "    return end_total - start_total\n",
        "\n",
        "#The following is code to output testcase.\n",
        "start_month = 1\n",
        "start_day = 2\n",
        "end_month = 2\n",
        "end_day = 2\n",
        "ret = solution(start_month, start_day, end_month, end_day)\n",
        "\n",
        "#Press Run button to receive output.\n",
        "print(\"Solution: return value of the function is\", ret, \".\")"
      ],
      "execution_count": null,
      "outputs": [
        {
          "output_type": "stream",
          "name": "stdout",
          "text": [
            "Solution: return value of the function is 31 .\n"
          ]
        }
      ]
    },
    {
      "cell_type": "markdown",
      "metadata": {
        "id": "UNvSMoQAv0Jl"
      },
      "source": [
        "### 문제 4. 수의 개수 세기\n",
        "\n",
        "자연수가 들어있는 배열이 있습니다. 이 배열에서 가장 많이 등장하는 숫자의 개수는 가장 적게 등장하는 숫자 개수의 몇 배인지 구하려 합니다. 이를 위해 다음과 같이 간단히 프로그램 구조를 작성했습니다.\n",
        "\n",
        "- 1단계. 배열에 들어있는 각 자연수의 개수를 셉니다.\n",
        "- 2단계. 가장 많이 등장하는 수의 개수를 구합니다.\n",
        "- 3단계. 가장 적게 등장하는 수의 개수를 구합니다.\n",
        "- 4단계. 가장 많이 등장하는 수가 가장 적게 등장하는 수보다 몇 배 더 많은지 구합니다.\n",
        "\n",
        "단, 몇 배 더 많은지 구할 때는 소수 부분은 버리고 정수 부분만 구하면 됩니다.\n",
        "\n",
        "자연수가 들어있는 배열 arr가 매개변수로 주어질 때, 가장 많이 등장하는 숫자가 가장 적게 등장하는 숫자보다 몇 배 더 많은지 return 하도록 solution 함수를 작성하려 합니다. 위 구조를 참고하여 코드가 올바르게 동작할 수 있도록 빈칸에 주어진 func_a, func_b, func_c 함수와 매개변수를 알맞게 채워주세요.\n",
        "\n",
        "\n",
        "▣ 매개변수 설명\n",
        "\n",
        "자연수가 들어있는 배열 arr가 solution 함수의 매개변수로 주어집니다.\n",
        "* arr의 길이는 3 이상 1,000 이하입니다.\n",
        "* arr에는 1 이상 1,000이하의 자연수가 들어있습니다.\n",
        "\n",
        "▣ return 값 설명\n",
        "\n",
        "배열에서 가장 많이 등장하는 숫자가 가장 적게 등장하는 숫자보다 몇 배 이상 많은지 return 해주세요.\n",
        "\n",
        "* 가장 많이 들어있는 수의 개수와 가장 적게 들어있는 수의 개수가 같은 경우에는 1을 return 합니다.\n",
        "\n",
        "▣ 예시\n",
        "\n",
        "    | arr                   | return |\n",
        "    |-----------------------|--------|\n",
        "    | [1,2,3,3,1,3,3,2,3,2] | 2      |\n",
        "\n",
        "▣ 예시 설명\n",
        "\n",
        "배열에 1이 2개, 2가 3개, 3이 5개 들어있습니다.\n",
        "* 가장 적게 들어있는 숫자 : 1 (2개)\n",
        "* 가장 많이 들어있는 숫자 : 3 (5개)\n",
        "\n",
        "3이 1보다 2.5배 많이 들어있으며, 소수 부분을 버리고 2를 return 하면 됩니다.\n"
      ]
    },
    {
      "cell_type": "code",
      "source": [
        "#[0 for _ in range(1001)]\n",
        "[0] * 1001"
      ],
      "metadata": {
        "id": "fNMhH1ZoGyfi"
      },
      "execution_count": null,
      "outputs": []
    },
    {
      "cell_type": "code",
      "source": [
        "a = [[0, 0, 0], \n",
        "     [0, 0, 0], \n",
        "     [0, 0, 0]]\n",
        "a[0][2] = 100     \n",
        "print(a)     "
      ],
      "metadata": {
        "colab": {
          "base_uri": "https://localhost:8080/"
        },
        "id": "zNygpmQsG4hv",
        "outputId": "67bf1e30-8dc8-4a45-d3a3-2a03260c45ff"
      },
      "execution_count": null,
      "outputs": [
        {
          "output_type": "stream",
          "name": "stdout",
          "text": [
            "[[0, 0, 100], [0, 0, 0], [0, 0, 0]]\n"
          ]
        }
      ]
    },
    {
      "cell_type": "code",
      "source": [
        "b = [[0]*3 for _ in range(3)]\n",
        "b[0][2] = 100\n",
        "print(b)"
      ],
      "metadata": {
        "colab": {
          "base_uri": "https://localhost:8080/"
        },
        "id": "ifVab0hxHCoL",
        "outputId": "f2e59bff-2a8d-4284-d60e-613690ba8149"
      },
      "execution_count": null,
      "outputs": [
        {
          "output_type": "stream",
          "name": "stdout",
          "text": [
            "[[0, 0, 100], [0, 0, 0], [0, 0, 0]]\n"
          ]
        }
      ]
    },
    {
      "cell_type": "code",
      "source": [
        "id(b[0]), id(b[1]), id(b[2])  # id : identity,주소"
      ],
      "metadata": {
        "colab": {
          "base_uri": "https://localhost:8080/"
        },
        "id": "l139OdfLIRBY",
        "outputId": "2b6e8771-0af3-4b5c-81c0-f1b1c92165c0"
      },
      "execution_count": null,
      "outputs": [
        {
          "output_type": "execute_result",
          "data": {
            "text/plain": [
              "(140652269533376, 140652392074928, 140652269445440)"
            ]
          },
          "metadata": {},
          "execution_count": 47
        }
      ]
    },
    {
      "cell_type": "code",
      "source": [
        "# 사용금지 - slot\n",
        "c = [[0]*3] * 3   # [[0,0,0]] * 3 => [[0, 0, 0], [0, 0, 0], [0, 0, 0]]\n",
        "c[0][2] = 100\n",
        "c"
      ],
      "metadata": {
        "colab": {
          "base_uri": "https://localhost:8080/"
        },
        "id": "4iguEuiRHVlO",
        "outputId": "2209674e-9d18-4944-e341-1d9d688c6d43"
      },
      "execution_count": null,
      "outputs": [
        {
          "output_type": "execute_result",
          "data": {
            "text/plain": [
              "[[0, 0, 100], [0, 0, 100], [0, 0, 100]]"
            ]
          },
          "metadata": {},
          "execution_count": 45
        }
      ]
    },
    {
      "cell_type": "code",
      "source": [
        "id(c[0]), id(c[1]), id(c[2])  # id : identity,주소"
      ],
      "metadata": {
        "colab": {
          "base_uri": "https://localhost:8080/"
        },
        "id": "-hfVfHbwH5Ae",
        "outputId": "405522a5-5fd4-4412-9245-e24434fe5c7d"
      },
      "execution_count": null,
      "outputs": [
        {
          "output_type": "execute_result",
          "data": {
            "text/plain": [
              "(140652269178784, 140652269178784, 140652269178784)"
            ]
          },
          "metadata": {},
          "execution_count": 46
        }
      ]
    },
    {
      "cell_type": "code",
      "source": [
        "# container의 slot : "
      ],
      "metadata": {
        "id": "EbphqshEIJY8"
      },
      "execution_count": null,
      "outputs": []
    },
    {
      "cell_type": "code",
      "metadata": {
        "id": "0vRy137swJiA",
        "colab": {
          "base_uri": "https://localhost:8080/"
        },
        "outputId": "ac540eb7-a5e4-45c7-9ddf-47b18ad63457"
      },
      "source": [
        "# 1단계. 배열에 들어있는 각 자연수의 개수를 셉니다.\n",
        "def func_a(arr):\n",
        "    counter = [0 for _ in range(1001)] # [0, 0, 0, ...0] -> 1 ~ 1000까지의 수에 대한 빈도저장\n",
        "    for x in arr:\n",
        "        counter[x] += 1\n",
        "    return counter\n",
        "\n",
        "# 2단계. 가장 많이 등장하는 수의 개수를 구합니다.\n",
        "def func_b(arr):\n",
        "    ret = 0\n",
        "    for x in arr:\n",
        "        if ret < x:\n",
        "            ret = x\n",
        "    return ret\n",
        "\n",
        "# 3단계. 가장 적게 등장하는 수의 개수를 구합니다.\n",
        "def func_c(arr):\n",
        "    INF = 1001\n",
        "    ret = INF\n",
        "    for x in arr:\n",
        "        if x != 0 and ret > x:\n",
        "            ret = x\n",
        "    return ret\n",
        "\n",
        "# 1단계. 배열에 들어있는 각 자연수의 개수를 셉니다.\n",
        "# 2단계. 가장 많이 등장하는 수의 개수를 구합니다.\n",
        "# 3단계. 가장 적게 등장하는 수의 개수를 구합니다.\n",
        "# 4단계. 가장 많이 등장하는 수가 가장 적게 등장하는 수보다 몇 배 더 많은지 구합니다.\n",
        "def solution(arr):\n",
        "    counter = func_a(arr)\n",
        "    max_cnt = func_b(counter)\n",
        "    min_cnt = func_c(counter)\n",
        "    return max_cnt // min_cnt\n",
        "\n",
        "#The following is code to output testcase.\n",
        "arr = [1, 2, 3, 3, 1, 3, 3, 2, 3, 2]\n",
        "ret = solution(arr)\n",
        "\n",
        "#Press Run button to receive output.\n",
        "print(\"Solution: return value of the function is\", ret, \".\")"
      ],
      "execution_count": null,
      "outputs": [
        {
          "output_type": "stream",
          "name": "stdout",
          "text": [
            "Solution: return value of the function is 2 .\n"
          ]
        }
      ]
    },
    {
      "cell_type": "markdown",
      "metadata": {
        "id": "gIABwFIuwNs1"
      },
      "source": [
        "### 문제 5. 배열 순서 뒤집기\n",
        "\n",
        "주어진 배열의 순서를 뒤집으려고 합니다.\n",
        "\n",
        "예를 들어 주어진 배열이 [1, 4, 2, 3]이면, 순서를 뒤집은 배열은 [3, 2, 4, 1]입니다.\n",
        "\n",
        "정수가 들어있는 배열 arr가 매개변수로 주어졌을 때, arr를 뒤집어서 return 하도록 solution 함수를 작성하려 합니다. 빈칸을 채워 전체 코드를 완성해주세요.\n",
        "\n",
        "\n",
        "▣ 매개변수 설명\n",
        "\n",
        "정수가 들어있는 배열 arr가 solution 함수의 매개변수로 주어집니다.\n",
        "* arr의 길이는 1 이상 100 이하입니다.\n",
        "* arr의 원소는 -100 이상 100 이하의 정수입니다.\n",
        "\n",
        "▣ return 값 설명\n",
        "\n",
        "배열 arr의 순서를 뒤집어서 return 해주세요.\n",
        "\n",
        "▣ 예시\n",
        "\n",
        "    | arr          | return       |\n",
        "    |--------------|--------------|\n",
        "    | [1, 4, 2, 3] | [3, 2, 4, 1] |\n",
        "\n",
        "▣ 예시 설명\n",
        "\n",
        "[1, 4, 2, 3]을 뒤에서부터 읽으면 3, 2, 4, 1입니다. 따라서 [1, 4, 2, 3]의 순서를 뒤집은 결과는 [3, 2, 4, 1]이 됩니다.\n"
      ]
    },
    {
      "cell_type": "code",
      "source": [
        "# slot : https://www.youtube.com/watch?v=Ob9iCbR76sU\n",
        "# 영상 뒤쪽으로 계속 container에 대한 설명이 있습니다.\n",
        "\n",
        "# 답을 찾는데는 slot 개념으로 이해하지 않으셔도 되지만\n",
        "# slot을 이해를 해두시면 파이썬에 대한 이해의 폭이 넓어집니다.\n",
        "# 좋은 코드를 작성할 수 있는 밑거름이 되는 것이죠. ^^*"
      ],
      "metadata": {
        "id": "4cx7YX-1KuDx"
      },
      "execution_count": null,
      "outputs": []
    },
    {
      "cell_type": "markdown",
      "source": [
        "![image.png](data:image/png;base64,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)"
      ],
      "metadata": {
        "id": "iPK0-qvKHWwg"
      }
    },
    {
      "cell_type": "code",
      "source": [
        "arr = [1, 4, 2, 3]\n",
        "\n",
        "left, right = 0, len(arr)-1\n",
        "print(left, right)\n",
        "# while\n",
        "arr[left], arr[right] = arr[right], arr[left]   # SWAP(a, b)\n",
        "print(arr)\n",
        "left += 1\n",
        "right -= 1\n",
        "print(left, right)\n",
        "# while\n",
        "arr[left], arr[right] = arr[right], arr[left]   # SWAP(a, b)\n",
        "print(arr)\n",
        "left += 1\n",
        "right -= 1\n",
        "print(left, right)\n",
        "# while\n"
      ],
      "metadata": {
        "colab": {
          "base_uri": "https://localhost:8080/"
        },
        "id": "JHczQSQxIABj",
        "outputId": "8f02442b-99a2-47ac-eb18-54384b00ba4b"
      },
      "execution_count": null,
      "outputs": [
        {
          "output_type": "stream",
          "name": "stdout",
          "text": [
            "0 3\n",
            "[3, 4, 2, 1]\n",
            "1 2\n",
            "[3, 2, 4, 1]\n",
            "2 1\n"
          ]
        }
      ]
    },
    {
      "cell_type": "code",
      "source": [
        "# SWAP의 원리\n",
        "arr = [1, 4, 2, 3]\n",
        "X = arr[0], arr[3]   # X는 tuple (2개의 slot 공간을 가지고 있는)\n",
        "arr[3], arr[0] = X\n",
        "print(X)"
      ],
      "metadata": {
        "colab": {
          "base_uri": "https://localhost:8080/"
        },
        "id": "EDcbl4UpJRG_",
        "outputId": "b0babf0d-47fb-4fe8-c9dd-3a843fe3e56d"
      },
      "execution_count": null,
      "outputs": [
        {
          "output_type": "stream",
          "name": "stdout",
          "text": [
            "(1, 3)\n"
          ]
        }
      ]
    },
    {
      "cell_type": "code",
      "source": [
        "# 조건 : True/False로 판단될 수 있는 객체\n",
        "# while : 조건이 True인 동안 statement를 계속 반복 실행\n",
        "while 조건:\n",
        "    statement"
      ],
      "metadata": {
        "id": "K4embsI0IRSK"
      },
      "execution_count": null,
      "outputs": []
    },
    {
      "cell_type": "code",
      "source": [
        "# slot이 새롭게 생성됨\n",
        "def solution(arr):    \n",
        "    return arr[::-1]"
      ],
      "metadata": {
        "id": "u2WHS7LHLLKB"
      },
      "execution_count": null,
      "outputs": []
    },
    {
      "cell_type": "code",
      "metadata": {
        "id": "nOrIY23ywJb-",
        "colab": {
          "base_uri": "https://localhost:8080/"
        },
        "outputId": "87702b48-7599-43ca-dcaa-764e2032d062"
      },
      "source": [
        "# slot을 유지하고 내용을 변경\n",
        "def solution(arr):\n",
        "    left, right = 0, len(arr)-1\n",
        "    while left < right:\n",
        "        arr[left], arr[right] = arr[right], arr[left]\n",
        "        left += 1\n",
        "        right -= 1\n",
        "    return arr\n",
        "    \n",
        "#The following is code to output testcase.\n",
        "arr = [1, 4, 2, 3]\n",
        "print(id(arr))\n",
        "ret = solution(arr)\n",
        "print(id(ret))\n",
        "#Press Run button to receive output.\n",
        "print(\"Solution: return value of the function is \", ret, \" .\")"
      ],
      "execution_count": null,
      "outputs": [
        {
          "output_type": "stream",
          "name": "stdout",
          "text": [
            "139830755033808\n",
            "139830755033808\n",
            "Solution: return value of the function is  [3, 2, 4, 1]  .\n"
          ]
        }
      ]
    },
    {
      "cell_type": "markdown",
      "metadata": {
        "id": "xaSQ7p5TwaTl"
      },
      "source": [
        "### 문제 6. 369 게임\n",
        "369 게임은 여러 명이 같이하는 게임입니다. 게임의 규칙은 아래와 같습니다.\n",
        "\n",
        "* 1부터 시작합니다.\n",
        "* 한 사람씩 차례대로 숫자를 1씩 더해가며 말합니다.\n",
        "* 말해야 하는 숫자에 3, 6, 9중 하나라도 포함되어있다면 숫자를 말하는 대신 숫자에 포함된 3, 6, 9의 개수만큼 손뼉을 칩니다.\n",
        "\n",
        "어떤 수 number가 매개변수로 주어질 때, 1부터 number까지 369게임을 올바르게 진행했을 경우 박수를 총 몇 번 쳤는지를 return 하도록 solution 함수를 작성하려 합니다. 빈칸을 채워 전체 코드를 완성해주세요.\n",
        "\n",
        "\n",
        "▣매개변수 설명\n",
        "\n",
        "number가 solution 함수의 매개변수로 주어집니다.\n",
        "* number는 10 이상 1,000 이하의 자연수입니다.\n",
        "\n",
        "▣return 값 설명\n",
        "\n",
        "1부터 number까지 369게임을 올바르게 진행했을 경우 박수를 총 몇 번을 쳤는지 return 해주세요.\n",
        "\n",
        "▣예시\n",
        "\n",
        "    | number | return |\n",
        "    |--------|--------|\n",
        "    | 40     | 22     |\n",
        "\n",
        "▣예시 설명\n",
        "\n",
        "- 3, 6, 9 : 각각 한 번 (+3)\n",
        "- 13, 16, 19 : 각각 한 번 (+3)\n",
        "- 23, 26, 29 : 각각 한 번 (+3)\n",
        "- 30, 31, 32, 33, ..., 38, 39 : 십의 자리 열 번 + 일의 자리 세 번 (+13)\n",
        "\n",
        "따라서, 3 + 3 + 3 + 13 = 22번의 박수를 칩니다.\n",
        " \n"
      ]
    },
    {
      "cell_type": "code",
      "source": [
        "number = 40\n",
        "count = 0  # 박수의 횟수\n",
        "\n",
        "#for i in range(1, number + 1):  # i=1, 2, 3, .... 40\n",
        "i = 130\n",
        "current = i   # 현재의 숫자\n",
        "temp = count  # 현재의 박수 횟수\n",
        "while current !=0:  # current이 0 이 아닌 동안 반복\n",
        "    if current % 10 in [3,6,9]:\n",
        "        count += 1  # 박수 횟수의 1 증가 \n",
        "        print(\"pair\", end = '')\n",
        "    #print(current)\n",
        "    current = current // 10\n",
        "if temp == count:  # count가 변경되지 않았다면\n",
        "    print(i, end = '')  # 숫자를 출력\n",
        "print(\" \", end = '')\n",
        "\n",
        "print('count =', count)"
      ],
      "metadata": {
        "colab": {
          "base_uri": "https://localhost:8080/"
        },
        "id": "g6igijtYP2Kx",
        "outputId": "8128e624-e853-49cc-b538-ff4716433b0f"
      },
      "execution_count": null,
      "outputs": [
        {
          "output_type": "stream",
          "name": "stdout",
          "text": [
            "pair count = 1\n"
          ]
        }
      ]
    },
    {
      "cell_type": "code",
      "source": [
        "i = 123\n",
        "a = [int(x) for x in str(123)]\n",
        "b = list(map(int, str(i)))\n",
        "print(a, b)"
      ],
      "metadata": {
        "colab": {
          "base_uri": "https://localhost:8080/"
        },
        "id": "qhSKZiWZTDNx",
        "outputId": "4ebc0313-db3a-4254-d9f2-f2f41d8a908a"
      },
      "execution_count": null,
      "outputs": [
        {
          "output_type": "stream",
          "name": "stdout",
          "text": [
            "[1, 2, 3] [1, 2, 3]\n"
          ]
        }
      ]
    },
    {
      "cell_type": "code",
      "source": [
        "def solution2(number):\n",
        "    count = 0\n",
        "    for i in range(1, number + 1):\n",
        "        temp = count\n",
        "        #for x in [int(x) for x in str(i)]:\n",
        "        for x in map(int, str(i)):\n",
        "            if x in [3,6,9]:\n",
        "                count += 1\n",
        "                print(\"pair\", end = '')\n",
        "        if temp == count:\n",
        "            print(i, end = '')\n",
        "        print(\" \", end = '')\n",
        "    print(\"\")   # 줄바꿈\n",
        "    return count"
      ],
      "metadata": {
        "id": "KIwEKyPRTfDm"
      },
      "execution_count": null,
      "outputs": []
    },
    {
      "cell_type": "code",
      "metadata": {
        "id": "_BGQeETNwpuH",
        "colab": {
          "base_uri": "https://localhost:8080/"
        },
        "outputId": "ec746bc1-7d5a-46a1-ce51-9e70c464bfe5"
      },
      "source": [
        "def solution(number):\n",
        "    count = 0\n",
        "    for i in range(1, number + 1):\n",
        "        current = i\n",
        "        temp = count\n",
        "        while current != 0:\n",
        "            if current % 10 in [3,6,9]:\n",
        "                count += 1\n",
        "                print(\"pair\", end = '')\n",
        "            current = current // 10\n",
        "        if temp == count:\n",
        "            print(i, end = '')\n",
        "        print(\" \", end = '')\n",
        "    print(\"\")   # 줄바꿈\n",
        "    return count\n",
        "\n",
        "#The following is code to output testcase.\n",
        "number = 40\n",
        "ret = solution(number)\n",
        "\n",
        "#Press Run button to receive output.\n",
        "print(\"Solution: return value of the function is\", ret, \".\")"
      ],
      "execution_count": null,
      "outputs": [
        {
          "output_type": "stream",
          "name": "stdout",
          "text": [
            "1 2 pair 4 5 pair 7 8 pair 10 11 12 pair 14 15 pair 17 18 pair 20 21 22 pair 24 25 pair 27 28 pair pair pair pair pairpair pair pair pairpair pair pair pairpair 40 \n",
            "Solution: return value of the function is 22 .\n"
          ]
        }
      ]
    },
    {
      "cell_type": "markdown",
      "metadata": {
        "id": "iSI7ZakLww1R"
      },
      "source": [
        "### 문제 7. 토익 성적\n",
        "\n",
        "A 대학에서는 수준별 영어 강의를 제공하고 있습니다. 초급 영어 강의는 토익시험에서 650점 이상 800점 미만의 성적을 취득한 학생만을 수강대상으로 하고 있습니다. 초급 영어 강의에 수강신청한 사람이 10명일 때, 이 중에서 몇명이 수강 대상에 해당하는지 확인하려합니다.\n",
        "\n",
        "수강신청자들의 토익 성적이 들어있는 배열 scores가 매개변수로 주어질 때, 수강 대상자들의 인원수를 return 하도록 solution 함수를 작성했습니다. 그러나, 코드 일부분이 잘못되어있기 때문에, 몇몇 입력에 대해서는 올바르게 동작하지 않습니다. 주어진 코드에서 _**한 줄**_만 변경해서 모든 입력에 대해 올바르게 동작하도록 수정해주세요.\n",
        "\n",
        "\n",
        "▣매개변수 설명\n",
        "\n",
        "수강신청자들의 토익 성적이 들어있는 배열 scores가 solution 함수의 매개변수로 주어집니다.\n",
        "* scores의 원소는 500 이상 990 이하의 정수입니다.\n",
        "* scores의 길이는 10입니다.\n",
        "\n",
        "▣return 값 설명\n",
        "\n",
        "수강 대상자들의 인원수를 return 해주세요.\n",
        "\n",
        "▣예시\n",
        "\n",
        "    | scores                                             | return |\n",
        "    |----------------------------------------------------|--------|\n",
        "    | [650, 722, 914, 558, 714, 803, 650, 679, 669, 800] | 6      |\n",
        "\n",
        "▣예시 설명\n",
        "\n",
        "    |점수     | 650 | 722 | 914 | 558 | 714 | 803 | 650 | 679 | 669 | 800 |\n",
        "    |---------|-----|-----|-----|-----|-----|-----|-----|-----|-----|-----|\n",
        "    |수강 대상| O   | O   | X   | X   | O   | X   | O   | O   | O   | X   |\n",
        "\n",
        "650점 이상 800점 미만의 성적을 취득한 학생이 수강대상이므로, 800점을 취득한 학생은 수강대상이 아닙니다.\n",
        "따라서, 6명이 수강 대상입니다.\n"
      ]
    },
    {
      "cell_type": "code",
      "source": [
        "# and, or, not\n",
        "x = [[True, True], [True, False], [False, True], [False, False]]\n",
        "for a, b in x:\n",
        "    print(a and b, a or b)"
      ],
      "metadata": {
        "colab": {
          "base_uri": "https://localhost:8080/"
        },
        "id": "cAMp1vQAWWiM",
        "outputId": "d53e2319-f93f-4197-943c-e881cc4eb823"
      },
      "execution_count": null,
      "outputs": [
        {
          "output_type": "stream",
          "name": "stdout",
          "text": [
            "True True\n",
            "False True\n",
            "False True\n",
            "False False\n"
          ]
        }
      ]
    },
    {
      "cell_type": "code",
      "source": [
        "# True 로 인지되는 객체, False로 인지되는 객체\n",
        "# False : 0, 0.0, None, '', (), {}, set()\n",
        "# True : False가 아닌 모든 객체\n",
        "[] and 'Yes'   #  and : 앞쪽이 True였을 때 뒤쪽을 반환, 앞쪽이 False라면 앞쪽을 반환"
      ],
      "metadata": {
        "colab": {
          "base_uri": "https://localhost:8080/"
        },
        "id": "zGQGE61IXf_E",
        "outputId": "61c932ae-ba85-4548-ea0f-e10fba00f6f5"
      },
      "execution_count": null,
      "outputs": [
        {
          "output_type": "execute_result",
          "data": {
            "text/plain": [
              "[]"
            ]
          },
          "metadata": {},
          "execution_count": 53
        }
      ]
    },
    {
      "cell_type": "code",
      "source": [
        "0 or 'Yes' # or : 앞쪽이 True였을 때 앞쪽을 반환, 앞쪽이 False라면 뒤쪽을 반환"
      ],
      "metadata": {
        "colab": {
          "base_uri": "https://localhost:8080/",
          "height": 36
        },
        "id": "KLbyZ58Aa3dh",
        "outputId": "60d7b652-61fc-402e-f97a-4c4c671171bc"
      },
      "execution_count": null,
      "outputs": [
        {
          "output_type": "execute_result",
          "data": {
            "application/vnd.google.colaboratory.intrinsic+json": {
              "type": "string"
            },
            "text/plain": [
              "'Yes'"
            ]
          },
          "metadata": {},
          "execution_count": 57
        }
      ]
    },
    {
      "cell_type": "code",
      "source": [
        "# &, |, ~  (비트의 and, or, not)\n",
        "x = [[True, True], [True, False], [False, True], [False, False]]\n",
        "for a, b in x:\n",
        "    print(a & b, a | b)"
      ],
      "metadata": {
        "colab": {
          "base_uri": "https://localhost:8080/"
        },
        "id": "zokPX-PjWxQQ",
        "outputId": "e9c7934d-6e05-407a-d231-b032d6d9e1b6"
      },
      "execution_count": null,
      "outputs": [
        {
          "output_type": "stream",
          "name": "stdout",
          "text": [
            "True True\n",
            "False True\n",
            "False True\n",
            "False False\n"
          ]
        }
      ]
    },
    {
      "cell_type": "code",
      "source": [
        "a = 0b1100\n",
        "b = 0b1010\n",
        "print(a & b, a | b)\n",
        "print(bin(a & b), bin(a | b))"
      ],
      "metadata": {
        "colab": {
          "base_uri": "https://localhost:8080/"
        },
        "id": "MuFt3ke2W_u-",
        "outputId": "c29781af-9b14-47ac-92d1-f7843219c31e"
      },
      "execution_count": null,
      "outputs": [
        {
          "output_type": "stream",
          "name": "stdout",
          "text": [
            "8 14\n",
            "0b1000 0b1110\n"
          ]
        }
      ]
    },
    {
      "cell_type": "code",
      "metadata": {
        "id": "iobRGa5gxJWI",
        "colab": {
          "base_uri": "https://localhost:8080/"
        },
        "outputId": "dfd24ebe-a217-470a-86b2-ccfce7c92e74"
      },
      "source": [
        "def solution(scores):\n",
        "    count = 0\n",
        "    for s in scores:\n",
        "        #if 650 <= s and s < 800:\n",
        "        if 650 <= s < 800:\n",
        "            count += 1\n",
        "    return count\n",
        "\n",
        "#The following is code to output testcase. The code below is correct and you shall correct solution function.\n",
        "scores = [650, 722, 914, 558, 714, 803, 650, 679, 669, 800]\n",
        "ret = solution(scores)\n",
        "\n",
        "#Press Run button to receive output.\n",
        "print(\"Solution: return value of the function is\", ret, \".\")"
      ],
      "execution_count": null,
      "outputs": [
        {
          "output_type": "stream",
          "name": "stdout",
          "text": [
            "Solution: return value of the function is 6 .\n"
          ]
        }
      ]
    },
    {
      "cell_type": "markdown",
      "metadata": {
        "id": "G2klo42XxJ8T"
      },
      "source": [
        "### 문제 8. 팰린드롬(palindrome)\n",
        "\n",
        "앞에서부터 읽을 때와 뒤에서부터 읽을 때 똑같은 단어 또는 문장을 팰린드롬(palindrome)이라고 합니다. 예를 들어서 racecar, noon은 팰린드롬 단어입니다. \n",
        "\n",
        "소문자 알파벳, 공백(\" \"), 그리고 마침표(\".\")로 이루어진 문장이 팰린드롬 문장인지 점검하려 합니다. 문장 내에서 알파벳만 추출하였을 때에 팰린드롬 단어이면 팰린드롬 문장입니다. 예를 들어, \"never odd or even.\"과 같은 문장은 팰린드롬입니다.\n",
        "\n",
        "소문자 알파벳, 공백(\" \"), 그리고 마침표(\".\")로 이루어진 문장 sentence가 주어질 때 팰린드롬인지 아닌지를 return 하도록 solution 함수를 작성했습니다. 그러나, 코드 일부분이 잘못되어있기 때문에, 몇몇 입력에 대해서는 올바르게 동작하지 않습니다. 주어진 코드에서 _**한 줄**_만 변경해서 모든 입력에 대해 올바르게 동작하도록 수정해주세요.\n",
        "\n",
        "\n",
        "▣ 매개변수 설명\n",
        "\n",
        "소문자 알파벳, 공백(\" \"), 그리고 마침표(\".\")로 이루어진 문장 sentence가 solution 함수의 매개변수로 주어집니다.\n",
        "* sentence의 길이는 1이상 100이하입니다.\n",
        "* sentence에는 적어도 하나의 알파벳이 포함되어 있습니다.\n",
        "* sentence의 각 문자는 소문자 알파벳, 공백(\" \"), 또는 마침표(\".\")입니다.\n",
        "\n",
        "▣ return 값 설명\n",
        "\n",
        "주어진 문장이 팰린드롬인지 아닌지를 return 해주세요.\n",
        "\n",
        "▣ 예시\n",
        "\n",
        "    | sentence             \t| return |\n",
        "    |----------------------\t|--------|\n",
        "    | \"never odd or even.\" \t| true   |\n",
        "    | \"palindrome\"         \t| false  |\n",
        "\n",
        "▣ 예시 설명\n",
        "\n",
        "예시 #1\n",
        "\n",
        "알파벳 소문자만 추출하면 \"neveroddoreven\"이 되며 이 단어는 팰린드롬입니다.\n",
        "\n",
        "예시 #2\n",
        "\n",
        "문장의 맨 앞 문자인 \"p\"와 맨 뒤 문자인 \"e\"가 다르므로 팰린드롬이 아닙니다.\n"
      ]
    },
    {
      "cell_type": "code",
      "source": [
        "# namespace\n",
        "# namespace 이해 : https://youtu.be/Pkp8JEzih6k   (PYTHON-23, 24, 25를 연속으로 보시면 좋습니다.)\n",
        "# namespace 종류 : https://youtu.be/nUcWo-adNe0   (PYTHON-88, 89를 연속으로 보시면 좋습니다.)"
      ],
      "metadata": {
        "id": "ntJ0LUGv0Zps"
      },
      "execution_count": null,
      "outputs": []
    },
    {
      "cell_type": "code",
      "source": [
        "sentence = \"never odd or even.\"\n",
        "A = ''\n",
        "for c in sentence:\n",
        "    if c != '.' and c != ' ':\n",
        "        A += c            \n",
        "size = len(A)\n",
        "print(A, size)"
      ],
      "metadata": {
        "colab": {
          "base_uri": "https://localhost:8080/"
        },
        "id": "MWKloPDlz9jR",
        "outputId": "b6abeb8b-55cd-40cd-f311-c27918eb3270"
      },
      "execution_count": null,
      "outputs": [
        {
          "output_type": "stream",
          "name": "stdout",
          "text": [
            "neveroddoreven 14\n"
          ]
        }
      ]
    },
    {
      "cell_type": "code",
      "source": [
        "ord('a'), ord('b'), ord('c'), ord('A'), ord('B'), ord('C'), ord('0'), ord('1'), ord('2')"
      ],
      "metadata": {
        "colab": {
          "base_uri": "https://localhost:8080/"
        },
        "id": "HE0UDtNE1R7L",
        "outputId": "49c4ec46-3f4f-43f1-c9ab-e31afc16b49b"
      },
      "execution_count": null,
      "outputs": [
        {
          "output_type": "execute_result",
          "data": {
            "text/plain": [
              "(97, 98, 99, 65, 66, 67, 48, 49, 50)"
            ]
          },
          "metadata": {},
          "execution_count": 72
        }
      ]
    },
    {
      "cell_type": "code",
      "source": [
        "if 'a' < 'A':\n",
        "    print('upper')\n",
        "else:\n",
        "    print('lower')    "
      ],
      "metadata": {
        "colab": {
          "base_uri": "https://localhost:8080/"
        },
        "id": "8h_R0n_S1kLZ",
        "outputId": "eb98e86a-7493-46ba-d844-dd2d5d0eb61b"
      },
      "execution_count": null,
      "outputs": [
        {
          "output_type": "stream",
          "name": "stdout",
          "text": [
            "lower\n"
          ]
        }
      ]
    },
    {
      "cell_type": "code",
      "source": [
        "sentence = \"never odd or even.\"\n",
        "A = ''\n",
        "for c in sentence:\n",
        "    #if 'a' <= c <= 'z':\n",
        "    if 'a' <= c and c <= 'z':\n",
        "        A += c            \n",
        "size = len(A)\n",
        "print(A, size)\n",
        "for i in range(size // 2):        # i=0, 1, 2, 3, 4, 5, 6\n",
        "    if A[i] != A[size - 1 - i]:   #   13, 12, 11, 10, 9, 8, 7\n",
        "        print('False')        "
      ],
      "metadata": {
        "colab": {
          "base_uri": "https://localhost:8080/"
        },
        "id": "VpzZDYYx0-4i",
        "outputId": "c47f314e-7052-46e1-c938-a221abab944f"
      },
      "execution_count": null,
      "outputs": [
        {
          "output_type": "stream",
          "name": "stdout",
          "text": [
            "neveroddoreven 14\n"
          ]
        }
      ]
    },
    {
      "cell_type": "code",
      "source": [
        "def solution2(sentence):\n",
        "    A = ''\n",
        "    for c in sentence:\n",
        "        if 'a' <= c and c <= 'z':\n",
        "            A += c            \n",
        "   \n",
        "    return A == A[::-1]"
      ],
      "metadata": {
        "id": "nxqcgIf23PRj"
      },
      "execution_count": null,
      "outputs": []
    },
    {
      "cell_type": "code",
      "metadata": {
        "id": "7fEhEkPExYU0",
        "colab": {
          "base_uri": "https://localhost:8080/"
        },
        "outputId": "bf842b90-63a6-4498-a209-579a1b380799"
      },
      "source": [
        "def solution(sentence):\n",
        "    str = ''\n",
        "    for c in sentence:\n",
        "        if c != '.' and c != ' ':\n",
        "            str += c            \n",
        "    size = len(str)\n",
        "    for i in range(size // 2):\n",
        "        if str[i] != str[size - 1 - i]:\n",
        "            return False\n",
        "    return True\n",
        "\n",
        "\n",
        "#The following is code to output testcase. The code below is correct and you shall correct solution function.\n",
        "sentence1 = \"never odd or even.\"\n",
        "ret1 = solution(sentence1)\n",
        "\n",
        "#Press Run button to receive output.\n",
        "print(\"Solution: return value of the function is\", ret1, \".\")\n",
        "    \n",
        "sentence2 = \"palindrome\"\n",
        "ret2 = solution(sentence2)\n",
        "\n",
        "#Press Run button to receive output.\n",
        "print(\"Solution: return value of the function is\", ret2, \".\")"
      ],
      "execution_count": null,
      "outputs": [
        {
          "output_type": "stream",
          "name": "stdout",
          "text": [
            "Solution: return value of the function is True .\n",
            "Solution: return value of the function is False .\n"
          ]
        }
      ]
    },
    {
      "cell_type": "markdown",
      "metadata": {
        "id": "XuZjscVDxhSw"
      },
      "source": [
        "### 문제 9. 중복문자 삭제\n",
        "\n",
        "알파벳 문자열이 주어질 때, 연속하는 중복 문자를 삭제하려고 합니다. 예를 들어, \"senteeeencccccceeee\"라는 문자열이 주어진다면, \"sentence\"라는 결과물이 나옵니다.\n",
        "\n",
        "영어 소문자 알파벳으로 이루어진 임의의 문자열 characters가 매개변수로 주어질 때, 연속하는 중복 문자들을 삭제한 결과를 return 하도록 solution 함수를 작성하였습니다. 그러나, 코드 일부분이 잘못되어있기 때문에, 코드가 올바르게 동작하지 않습니다. 주어진 코드에서 _**한 줄**_만 변경해서 모든 입력에 대해 올바르게 동작하도록 수정하세요.\n",
        "\n",
        "\n",
        "▣매개변수 설명\n",
        "\n",
        "영어 소문자 알파벳으로 이루어진 임의의 문자열 characters가 solution 함수의 매개변수로 주어집니다. \n",
        "* characters는 알파벳 소문자로만 이루어져있습니다.\n",
        "* characters의 길이는 10 이상 100 이하입니다.\n",
        "\n",
        "▣return 값 설명\n",
        "\n",
        "characters에서 연속하는 중복 문자를 제거한 문자열을 return 해주세요.\n",
        "\n",
        "▣예시\n",
        "\n",
        "    | characters            | return    |\n",
        "    |-----------------------|-----------|\n",
        "    | \"senteeeencccccceeee\" | \"sentence\"|\n"
      ]
    },
    {
      "cell_type": "code",
      "source": [
        "# 문제 풀이의 접근 방법\n",
        "characters = \"senteeeencccccceeee\"\n",
        "result = \"\"\n",
        "result += characters[0]\n",
        "print(result)\n",
        "print(len(characters))\n",
        "for i in range(1, len(characters)):  # i=0, 1, 2, 3, ..., 18  (19번 반복)\n",
        "    #print(i-1, i)\n",
        "    if characters[i - 1] != characters[i]:\n",
        "        result += characters[i]  \n",
        "result          "
      ],
      "metadata": {
        "colab": {
          "base_uri": "https://localhost:8080/",
          "height": 73
        },
        "id": "csuwlBPw514w",
        "outputId": "14f55aac-4776-4e4e-e0fb-4d56cdb2e71a"
      },
      "execution_count": null,
      "outputs": [
        {
          "output_type": "stream",
          "name": "stdout",
          "text": [
            "s\n",
            "19\n"
          ]
        },
        {
          "output_type": "execute_result",
          "data": {
            "application/vnd.google.colaboratory.intrinsic+json": {
              "type": "string"
            },
            "text/plain": [
              "'sentence'"
            ]
          },
          "metadata": {},
          "execution_count": 84
        }
      ]
    },
    {
      "cell_type": "code",
      "source": [
        "# 다른 풀이 방법\n",
        "characters = \"senteeeencccccceeee\"\n",
        "result = characters[0]\n",
        "\n",
        "for c in characters[1:]: \n",
        "    if result[-1] != c:\n",
        "        result += c \n",
        "result          "
      ],
      "metadata": {
        "colab": {
          "base_uri": "https://localhost:8080/",
          "height": 36
        },
        "id": "kz_JUrtb7Ese",
        "outputId": "df42c194-20c3-4a64-e60b-d551cb609f2f"
      },
      "execution_count": null,
      "outputs": [
        {
          "output_type": "execute_result",
          "data": {
            "application/vnd.google.colaboratory.intrinsic+json": {
              "type": "string"
            },
            "text/plain": [
              "'sentence'"
            ]
          },
          "metadata": {},
          "execution_count": 87
        }
      ]
    },
    {
      "cell_type": "code",
      "metadata": {
        "id": "a2LKG7_QxmbM",
        "colab": {
          "base_uri": "https://localhost:8080/"
        },
        "outputId": "01f14275-a701-4075-9966-244418bb5815"
      },
      "source": [
        "def solution(characters):\n",
        "    result = \"\"\n",
        "    result += characters[0]\n",
        "    for i in range(1, len(characters)):\n",
        "        if characters[i - 1] != characters[i]:\n",
        "            result += characters[i]\n",
        "    return result\n",
        "\n",
        "#The following is code to output testcase. The code below is correct and you shall correct solution function.\n",
        "characters = \"senteeeencccccceeee\"\n",
        "ret = solution(characters)\n",
        "\n",
        "#Press Run button to receive output.\n",
        "print(\"Solution: return value of the function is\", ret, \".\")"
      ],
      "execution_count": null,
      "outputs": [
        {
          "output_type": "stream",
          "name": "stdout",
          "text": [
            "Solution: return value of the function is sentence .\n"
          ]
        }
      ]
    },
    {
      "cell_type": "markdown",
      "metadata": {
        "id": "kQLZWuVxxqKW"
      },
      "source": [
        "### 문제 10. 평균 이하인 숫자\n",
        "\n",
        "평균은 자료의 합을 자료의 개수로 나눈 값을 의미합니다. 자연수가 들어있는 배열의 평균을 구하고, 평균 이하인 숫자는 몇 개 있는지 구하려합니다.\n",
        "\n",
        "예를 들어 주어진 배열이 [1, 2, 3, 4, 5, 6, 7, 8, 9, 10]이라면, 평균은 5.5이므로 배열에서 평균 이하인 값은 5개입니다.\n",
        "\n",
        "자연수가 들어있는 배열 data가 매개변수로 주어질 때, 배열에 평균 이하인 값은 몇 개인지 return 하도록 solution 함수를 작성했습니다. 그러나, 코드 일부분이 잘못되어있기 때문에, 몇몇 입력에 대해서는 올바르게 동작하지 않습니다. 주어진 코드에서 한 줄만 변경해서 모든 입력에 대해 올바르게 동작하도록 수정하세요.\n",
        "\n",
        "\n",
        "\n",
        "▣ 매개변수 설명\n",
        "\n",
        "자연수가 들어있는 배열 data가 solution 함수의 매개변수로 주어집니다.\n",
        "\n",
        "* data의 길이는 10 이상 100 이하 정수입니다.\n",
        "* data의 원소는 1 이상 1,000 이하의 자연수입니다.\n",
        "\n",
        "▣ return 값 설명\n",
        "\n",
        "평균보다 값이 작은 자연수는 몇개인지 return 해주세요.\n",
        "\n",
        "▣ 예시\n",
        "\n",
        "    | data                            | return |\n",
        "    |---------------------------------|--------|\n",
        "    | [1, 2, 3, 4, 5, 6, 7, 8, 9, 10] | 5      |\n",
        "    | [1, 1, 1, 1, 1, 1, 1, 1, 1, 10] | 9      |\n",
        "\n",
        "▣ 예시 설명\n",
        "\n",
        "예시 #1\n",
        "\n",
        "자료의 합은 55이며, 자료의 개수는 10개입니다. 따라서 평균은 55 / 10 = 5.5입니다.\n",
        "주어진 배열에서 5.5보다 작은 숫자는 총 5개입니다.\n",
        "\n",
        "예시 #2\n",
        "\n",
        "자료의 합은 19이며, 자료의 개수는 10개입니다. 따라서 평균은 19 / 10 = 1.9입니다.\n",
        "주어진 배열에서 1.9보다 작은 숫자는 총 9개입니다.\n"
      ]
    },
    {
      "cell_type": "code",
      "source": [
        "data = [1, 2, 3, 4, 5, 6, 7, 8, 9, 10]\n",
        "total = sum(data)\n",
        "average = total / len(data)\n",
        "print(total, average)"
      ],
      "metadata": {
        "colab": {
          "base_uri": "https://localhost:8080/"
        },
        "id": "iA3YU7k-8vzW",
        "outputId": "0b393f1f-a431-4370-b420-23da8cd1e9a3"
      },
      "execution_count": null,
      "outputs": [
        {
          "output_type": "stream",
          "name": "stdout",
          "text": [
            "55 5.5\n"
          ]
        }
      ]
    },
    {
      "cell_type": "code",
      "metadata": {
        "id": "LAaltjKpx2SS",
        "colab": {
          "base_uri": "https://localhost:8080/"
        },
        "outputId": "f095b893-55ca-4e76-eaf4-9c65abd552c8"
      },
      "source": [
        "def solution(data):\n",
        "    total = sum(data)\n",
        "    average = total / len(data)\n",
        "    cnt = 0\n",
        "    for d in data:\n",
        "        if d <= average:\n",
        "            cnt += 1\n",
        "    return cnt\n",
        "\n",
        "\n",
        "#The following is code to output testcase. The code below is correct and you shall correct solution function.\n",
        "data1 = [1, 2, 3, 4, 5, 6, 7, 8, 9, 10]\n",
        "ret1 = solution(data1)\n",
        "\n",
        "#Press Run button to receive output.\n",
        "print(\"Solution: return value of the function is\", ret1, \".\")\n",
        "    \n",
        "data2 = [1, 1, 1, 1, 1, 1, 1, 1, 1, 10]\n",
        "ret2 = solution(data2)\n",
        "\n",
        "#Press Run button to receive output.\n",
        "print(\"Solution: return value of the function is\", ret2, \".\")"
      ],
      "execution_count": null,
      "outputs": [
        {
          "output_type": "stream",
          "name": "stdout",
          "text": [
            "Solution: return value of the function is 5 .\n",
            "Solution: return value of the function is 9 .\n"
          ]
        }
      ]
    }
  ]
}